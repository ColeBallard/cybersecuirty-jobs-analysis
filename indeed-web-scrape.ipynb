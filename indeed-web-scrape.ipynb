{
 "cells": [
  {
   "cell_type": "code",
   "execution_count": 2,
   "metadata": {},
   "outputs": [
    {
     "name": "stdout",
     "output_type": "stream",
     "text": [
      "403\n"
     ]
    }
   ],
   "source": [
    "import requests\n",
    "from bs4 import BeautifulSoup\n",
    "\n",
    "#setup the soup\n",
    "url = 'http://www.indeed.com/jobs?q=cyber%20security&from=searchOnHP&redirected=1'\n",
    "headers = {'User-Agent' : 'Mozilla/5.0'}\n",
    "\n",
    "response = requests.get(url, headers=headers)\n",
    "\n",
    "print(response.status_code)\n",
    "\n",
    "rawhtml = response.text\n",
    "\n",
    "#parse the HTML\n",
    "soup = BeautifulSoup(rawhtml, 'html.parser')"
   ]
  },
  {
   "cell_type": "code",
   "execution_count": null,
   "metadata": {},
   "outputs": [],
   "source": [
    "jobs = []"
   ]
  },
  {
   "cell_type": "code",
   "execution_count": null,
   "metadata": {},
   "outputs": [],
   "source": [
    "ResultsList = soup.find_all('ul', attrs = {'class':'jobsearch-ResultsList css-0'})\n",
    "for text in ResultsList:\n",
    "    salary = ResultsList.find('svg')\n",
    "    print(salary)\n",
    "    \n",
    "    jobs = jobs(salary)\n",
    "# for job_element in job_elements:\n",
    "#     salary = job_element.find('span')\n",
    "#     name = span.text\n",
    "#     print(name)\n",
    "\n",
    "#     jobs = jobs(name)\n",
    "#     print(jobs)"
   ]
  },
  {
   "cell_type": "code",
   "execution_count": null,
   "metadata": {},
   "outputs": [],
   "source": [
    "jobs"
   ]
  },
  {
   "cell_type": "code",
   "execution_count": null,
   "metadata": {},
   "outputs": [],
   "source": []
  }
 ],
 "metadata": {
  "kernelspec": {
   "display_name": "Python 3",
   "language": "python",
   "name": "python3"
  },
  "language_info": {
   "codemirror_mode": {
    "name": "ipython",
    "version": 3
   },
   "file_extension": ".py",
   "mimetype": "text/x-python",
   "name": "python",
   "nbconvert_exporter": "python",
   "pygments_lexer": "ipython3",
   "version": "3.8.5"
  },
  "vscode": {
   "interpreter": {
    "hash": "c569d5206afb8abdade57f51b7a8819ce143fbdcc94d19bbc35fd43f58a57833"
   }
  }
 },
 "nbformat": 4,
 "nbformat_minor": 4
}
