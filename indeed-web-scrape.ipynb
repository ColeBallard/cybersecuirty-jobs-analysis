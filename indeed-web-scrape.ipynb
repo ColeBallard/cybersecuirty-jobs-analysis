{
 "cells": [
  {
   "cell_type": "code",
   "execution_count": 1,
   "metadata": {},
   "outputs": [
    {
     "name": "stdout",
     "output_type": "stream",
     "text": [
      "https://www.indeed.com/jobs?q=cyber%20security&from=searchOnHP&redirected=1\n"
     ]
    }
   ],
   "source": [
    "import requests\n",
    "from bs4 import BeautifulSoup\n",
    "\n",
    "#setup the soup\n",
    "url = 'https://www.indeed.com/jobs?q=cyber%20security&from=searchOnHP&redirected=1'\n",
    "print(url)\n",
    "\n",
    "response = requests.get(url)\n",
    "rawhtml = response.text\n",
    "\n",
    "#parse the HTML\n",
    "soup = BeautifulSoup(rawhtml, 'html.parser')"
   ]
  },
  {
   "cell_type": "code",
   "execution_count": 3,
   "metadata": {},
   "outputs": [],
   "source": [
    "jobs = []"
   ]
  },
  {
   "cell_type": "code",
   "execution_count": 10,
   "metadata": {},
   "outputs": [],
   "source": [
    "job_elements = soup.find_all('svg',attrs = {'role':'presentation'})\n",
    "\n",
    "for job_element in job_elements:\n",
    "    salary = job_element.find('span')\n",
    "    name = span.text\n",
    "    print(name)\n",
    "\n",
    "    jobs = jobs(name)\n",
    "    print(jobs)"
   ]
  },
  {
   "cell_type": "code",
   "execution_count": 11,
   "metadata": {},
   "outputs": [
    {
     "data": {
      "text/plain": [
       "[]"
      ]
     },
     "execution_count": 11,
     "metadata": {},
     "output_type": "execute_result"
    }
   ],
   "source": [
    "jobs"
   ]
  },
  {
   "cell_type": "code",
   "execution_count": null,
   "metadata": {},
   "outputs": [],
   "source": []
  }
 ],
 "metadata": {
  "kernelspec": {
   "display_name": "Python 3",
   "language": "python",
   "name": "python3"
  },
  "language_info": {
   "codemirror_mode": {
    "name": "ipython",
    "version": 3
   },
   "file_extension": ".py",
   "mimetype": "text/x-python",
   "name": "python",
   "nbconvert_exporter": "python",
   "pygments_lexer": "ipython3",
   "version": "3.8.5"
  }
 },
 "nbformat": 4,
 "nbformat_minor": 4
}
